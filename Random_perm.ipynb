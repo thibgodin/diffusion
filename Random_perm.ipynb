{
 "cells": [
  {
   "cell_type": "code",
   "execution_count": 11,
   "metadata": {},
   "outputs": [],
   "source": [
    "#%matplotlib notebook\n",
    "import numpy as np\n",
    "import matplotlib.pyplot as plt\n",
    "\n",
    "def randomPermutation(n):\n",
    "    ## creates a random permutation on n elements\n",
    "    tableau = []\n",
    "    for i in range(n): ## we create an array of length n: [1,2,...,n]\n",
    "        tableau.append(i+1)\n",
    "    \n",
    "    permutation = []\n",
    "    for i in range(n): \n",
    "        random_elmt = np.random.choice(tableau)\n",
    "        ## we randomly draw an element of tableau\n",
    "        permutation.append(random_elmt)\n",
    "        ## put it in permutation (hence at position i)\n",
    "        tableau.remove(random_elmt)\n",
    "        ## then remove the element from tableau\n",
    "        #print(tableau)\n",
    "    #print(permutation)\n",
    "    return(permutation)"
   ]
  },
  {
   "cell_type": "code",
   "execution_count": 12,
   "metadata": {},
   "outputs": [],
   "source": [
    "#test\n",
    "\n",
    "p=randomPermutation(10)"
   ]
  },
  {
   "cell_type": "code",
   "execution_count": 13,
   "metadata": {},
   "outputs": [],
   "source": [
    "def hasOneCycle(permutation):\n",
    "    ## determines if the permuation is formed by a unique cycle\n",
    "    ## returns 1 if yes, 0 otherwise\n",
    "\n",
    "    start=permutation[0]\n",
    "    ## first element of the permutation\n",
    "    #print(start)\n",
    "    next_elt=permutation[start-1]\n",
    "    ## successor element\n",
    "    cycle_length=1\n",
    "    #print(next_elt)\n",
    "    while next_elt != start:\n",
    "        ## while the cycle is not complete\n",
    "        cycle_length= cycle_length + 1\n",
    "        ## add one to the cycle length\n",
    "        next_elt=permutation[next_elt-1]\n",
    "        ## successor element\n",
    "\n",
    "        #print(next_elt)\n",
    "\n",
    "    if  cycle_length>=len(permutation):\n",
    "        return 1\n",
    "    else:\n",
    "        return 0"
   ]
  },
  {
   "cell_type": "code",
   "execution_count": 14,
   "metadata": {},
   "outputs": [
    {
     "data": {
      "text/plain": [
       "0"
      ]
     },
     "execution_count": 14,
     "metadata": {},
     "output_type": "execute_result"
    }
   ],
   "source": [
    "#test\n",
    "p=randomPermutation(10)\n",
    "\n",
    "hasOneCycle(p)\n",
    "#hasOneCycle([2,3,4,5,6,1])\n",
    "#hasOneCycle([2,3,4,5,6,1,7])"
   ]
  },
  {
   "cell_type": "code",
   "execution_count": 15,
   "metadata": {},
   "outputs": [],
   "source": [
    "def countOneCycle(n,k):\n",
    "    ## counts the number of permutations on n elements that are formed by one cycle\n",
    "    ## random sampling\n",
    "    #n: size of perm, k: nb tries\n",
    "    nb=0\n",
    "    for i in range(k):\n",
    "        p=randomPermutation(n)\n",
    "        nb=nb+hasOneCycle(p)\n",
    "        \n",
    "    return nb\n",
    "\n"
   ]
  },
  {
   "cell_type": "code",
   "execution_count": 16,
   "metadata": {},
   "outputs": [
    {
     "name": "stdout",
     "output_type": "stream",
     "text": [
      "369\n",
      "0.0369\n",
      "0.04\n"
     ]
    }
   ],
   "source": [
    "#test\n",
    "\n",
    "n=25\n",
    "k=10000\n",
    "c=countOneCycle(n,k)\n",
    "print(c)\n",
    "print(c/k)\n",
    "print(1/n)"
   ]
  },
  {
   "cell_type": "code",
   "execution_count": 20,
   "metadata": {},
   "outputs": [],
   "source": [
    "def plot(n):\n",
    "    plot=[]\n",
    "    for i in range(1,n):\n",
    "        plot.append(countOneCycle(i,5000)/5000)\n",
    "        print(plot[i-1])\n",
    "    return plot"
   ]
  },
  {
   "cell_type": "code",
   "execution_count": 21,
   "metadata": {},
   "outputs": [
    {
     "name": "stdout",
     "output_type": "stream",
     "text": [
      "1.0\n",
      "0.4976\n",
      "0.3276\n",
      "0.2542\n",
      "0.211\n",
      "0.1606\n",
      "0.1428\n",
      "0.1288\n",
      "0.116\n",
      "0.1084\n",
      "0.083\n",
      "0.0854\n",
      "0.0738\n",
      "0.0726\n",
      "0.0702\n",
      "0.0656\n",
      "0.0592\n",
      "0.0538\n",
      "0.0512\n",
      "0.0472\n",
      "0.0416\n",
      "0.0456\n",
      "0.0528\n",
      "0.0426\n",
      "0.037\n",
      "0.0358\n",
      "0.0408\n",
      "0.0346\n",
      "0.0302\n"
     ]
    },
    {
     "data": {
      "text/plain": [
       "[1.0,\n",
       " 0.4976,\n",
       " 0.3276,\n",
       " 0.2542,\n",
       " 0.211,\n",
       " 0.1606,\n",
       " 0.1428,\n",
       " 0.1288,\n",
       " 0.116,\n",
       " 0.1084,\n",
       " 0.083,\n",
       " 0.0854,\n",
       " 0.0738,\n",
       " 0.0726,\n",
       " 0.0702,\n",
       " 0.0656,\n",
       " 0.0592,\n",
       " 0.0538,\n",
       " 0.0512,\n",
       " 0.0472,\n",
       " 0.0416,\n",
       " 0.0456,\n",
       " 0.0528,\n",
       " 0.0426,\n",
       " 0.037,\n",
       " 0.0358,\n",
       " 0.0408,\n",
       " 0.0346,\n",
       " 0.0302]"
      ]
     },
     "execution_count": 21,
     "metadata": {},
     "output_type": "execute_result"
    }
   ],
   "source": [
    "#test\n",
    "\n",
    "t=plot(30)\n",
    "t"
   ]
  },
  {
   "cell_type": "code",
   "execution_count": 22,
   "metadata": {},
   "outputs": [
    {
     "data": {
      "text/plain": [
       "[<matplotlib.lines.Line2D at 0x7f9f1192e588>]"
      ]
     },
     "execution_count": 22,
     "metadata": {},
     "output_type": "execute_result"
    },
    {
     "data": {
      "image/png": "[encoded data removed]",
      "text/plain": [
       "<Figure size 432x288 with 1 Axes>"
      ]
     },
     "metadata": {},
     "output_type": "display_data"
    }
   ],
   "source": [
    "plt.plot(range(1,30),t)"
   ]
  },
  {
   "cell_type": "code",
   "execution_count": null,
   "metadata": {},
   "outputs": [],
   "source": []
  }
 ],
 "metadata": {
  "kernelspec": {
   "display_name": "Python 3",
   "language": "python",
   "name": "python3"
  },
  "language_info": {
   "codemirror_mode": {
    "name": "ipython",
    "version": 3
   },
   "file_extension": ".py",
   "mimetype": "text/x-python",
   "name": "python",
   "nbconvert_exporter": "python",
   "pygments_lexer": "ipython3",
   "version": "3.6.8"
  }
 },
 "nbformat": 4,
 "nbformat_minor": 2
}
